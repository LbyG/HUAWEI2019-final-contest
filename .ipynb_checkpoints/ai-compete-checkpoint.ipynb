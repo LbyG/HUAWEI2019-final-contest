{
 "cells": [
  {
   "cell_type": "markdown",
   "metadata": {},
   "source": [
    "# 2019华为软件精英挑战赛-基于ModelArts-SDK使用操作指导\n",
    "_**基于Modelarts SDK功能，利用MXNet引擎，端到端实现车牌识别的一站式开发**_\n",
    "\n",
    "---\n",
    "\n",
    "---\n",
    "\n",
    "## 内容\n",
    "\n",
    "1. [背景介绍](#背景介绍)\n",
    "1. [环境配置](#环境配置)\n",
    "1. [数据管理](#数据管理)\n",
    "1. [训练作业](#训练作业)\n",
    "1. [模型部署](#模型部署)\n",
    "1. [部署上线](#部署上线)\n",
    "1. [在线测试](#在线测试)\n",
    "1. [资源释放](#资源释放)\n",
    "\n",
    "---\n",
    "\n",
    "\n",
    "## 背景介绍\n",
    "\n",
    "本案例将展示利用 [ModelArts SDK功能](https://support.huaweicloud.com/sdkreference-modelarts/modelarts_04_0001.html)，结合MXNet引擎和车牌数据集，实现车牌识别的端到端一站式开发。主要内容包括：\n",
    "\n",
    "* 基本的环境配置.\n",
    "* 数据集的管理，包括获取数据集.\n",
    "* 创建训练作业.\n",
    "* 根据训练输出文件，构建模型\n",
    "* 实现模型的上线部署.\n",
    "* 输入测试图片进行在线预测.\n",
    "* 释放本notebook生成的资源，包括作业、模型和服务，以及存储资源."
   ]
  },
  {
   "cell_type": "markdown",
   "metadata": {},
   "source": [
    "\n",
    "## 环境配置\n",
    "\n",
    "本项目无需手动设置，所需的存储桶目录等都可自动生成，配置内容包括：\n",
    "\n",
    "* 导入所需的Python库"
   ]
  },
  {
   "cell_type": "code",
   "execution_count": null,
   "metadata": {},
   "outputs": [],
   "source": [
    "import urllib3\n",
    "urllib3.disable_warnings()\n",
    "from modelarts.session import Session\n",
    "from modelarts.estimator import Estimator\n",
    "from modelarts.predictor import Predictor\n",
    "from modelarts.model import Model\n",
    "from modelarts.config.model_config import ServiceConfig,TransformerConfig \n",
    "import os\n",
    "import json"
   ]
  },
  {
   "cell_type": "markdown",
   "metadata": {},
   "source": [
    "* 建立session，并创建承载本项目的默认[OBS](https://storage.huaweicloud.com/obs/?region=cn-north-1#/obs/buckets) bucket."
   ]
  },
  {
   "cell_type": "code",
   "execution_count": null,
   "metadata": {},
   "outputs": [],
   "source": [
    "session = Session()\n",
    "bucket_name = session.default_bucket('obs-car-reg-ai') # 选手可指定其他的桶名，但obs-car-reg桶为公共桶，不可再作为桶名"
   ]
  },
  {
   "cell_type": "markdown",
   "metadata": {},
   "source": [
    "---\n",
    "## 数据管理\n",
    "\n",
    "* 获取比赛提供的数据集，并下载到容器本地："
   ]
  },
  {
   "cell_type": "code",
   "execution_count": null,
   "metadata": {},
   "outputs": [],
   "source": [
    "import os\n",
    "home_path = os.environ['HOME']+'/work/licence-plate' # 输入下载到容器中的地址，如home_path=os.environ['HOME']+'/work'\n",
    "data_path = home_path + '/data'\n",
    "!mkdir -p $data_path\n",
    "\n",
    "dataset_url='https://codecraft-2019.obs.cn-north-1.myhuaweicloud.com/data/train-data.zip'\n",
    "\n",
    "!wget $dataset_url -O $data_path/train-data.zip -P $data_path \n",
    "import zipfile\n",
    "dataset_file = data_path + '/train-data.zip'\n",
    "zip = zipfile.ZipFile(dataset_file)\n",
    "zip.extractall(data_path)\n",
    "zip.close()\n",
    "!rm -rf $dataset_file"
   ]
  },
  {
   "cell_type": "code",
   "execution_count": null,
   "metadata": {},
   "outputs": [],
   "source": [
    "!ls $data_path/"
   ]
  },
  {
   "cell_type": "markdown",
   "metadata": {},
   "source": [
    "* 将本地数据集上传至OBS"
   ]
  },
  {
   "cell_type": "code",
   "execution_count": null,
   "metadata": {
    "scrolled": true
   },
   "outputs": [],
   "source": [
    "base_bucket_path = '/' + bucket_name\n",
    "session.upload_data(base_bucket_path, data_path)          ##数据集较大，上传到OBS较耗时，请耐心等待"
   ]
  },
  {
   "cell_type": "markdown",
   "metadata": {},
   "source": [
    "---\n",
    "## 训练作业\n",
    "\n",
    "环境配置和数据管理完成后，可以开始训练作业。\n",
    "* 首先, 将训练代码从容器中上传至OBS指定目录下"
   ]
  },
  {
   "cell_type": "code",
   "execution_count": null,
   "metadata": {},
   "outputs": [],
   "source": [
    "train_file = 'train_demo.py'\n",
    "src_local_path = home_path + '/src'\n",
    "session.upload_data(base_bucket_path, src_local_path)\n",
    "print('The train files locate in %s/train/ ' % base_bucket_path)"
   ]
  },
  {
   "cell_type": "markdown",
   "metadata": {},
   "source": [
    "* 其次，展示基于MXNet实现车牌识别的训练脚本train_demo.py."
   ]
  },
  {
   "cell_type": "code",
   "execution_count": null,
   "metadata": {},
   "outputs": [],
   "source": [
    "! cat $src_local_path/$train_file"
   ]
  },
  {
   "cell_type": "markdown",
   "metadata": {},
   "source": [
    "* 展示当前ModelArts支持的train_instance_types和framework_list"
   ]
  },
  {
   "cell_type": "code",
   "execution_count": null,
   "metadata": {},
   "outputs": [],
   "source": [
    "print(json.dumps(Estimator.get_train_instance_types(session),indent = 1))"
   ]
  },
  {
   "cell_type": "code",
   "execution_count": null,
   "metadata": {},
   "outputs": [],
   "source": [
    "print(json.dumps(Estimator.get_framework_list(session),indent = 1))"
   ]
  },
  {
   "cell_type": "markdown",
   "metadata": {},
   "source": [
    "* 初始化训练作业"
   ]
  },
  {
   "cell_type": "code",
   "execution_count": null,
   "metadata": {},
   "outputs": [],
   "source": [
    "estimator = Estimator(modelarts_session=session,\n",
    "                      framework_type='MXNet',                                   # AI引擎名称\n",
    "                      framework_version='MXNet-1.2.1-python2.7',                # AI引擎版本\n",
    "                      code_dir= base_bucket_path + '/src/',                     # 训练代码目录\n",
    "                      boot_file=base_bucket_path + '/src/'+ train_file,         # 训练启动文件\n",
    "                      hyperparameters=[{\"label\":\"lr\",\"value\":\"0.05\"},           # 训练运行参数，若为空，则改为[]即可\n",
    "                                       {\"label\":\"num\",\"value\":\"10\"}\n",
    "                                       ],\n",
    "                      output_path=base_bucket_path + '/output/',                 # 训练输出位置\n",
    "                      log_url=base_bucket_path + \"/log/\",                       # 训练作业日志路径          \n",
    "                      train_instance_type='modelarts.vm.cpu.2u',                # 训练资源池规格\n",
    "                      train_instance_count=1,                                   # 计算节点个数\n",
    "                      job_description='This is a licence plate training job')   # 训练作业描述              "
   ]
  },
  {
   "cell_type": "markdown",
   "metadata": {},
   "source": [
    "* 最后，开始训练作业，当参数wait=True时，等待训练完成并实时输出训练状态。若训练失败，可到ModelArts的训练作业模块或OBS中查看该训练作业的日志"
   ]
  },
  {
   "cell_type": "code",
   "execution_count": null,
   "metadata": {},
   "outputs": [],
   "source": [
    "session.create_directory(bucket_name, '/output')     #创建训练模型输出位置\n",
    "session.create_directory(bucket_name, '/log')     #创建训练模型日志路径\n",
    "job_id = estimator.fit(inputs=base_bucket_path + '/data/',wait = True)  # inputs为训练数据存储位置"
   ]
  },
  {
   "cell_type": "markdown",
   "metadata": {},
   "source": [
    "---\n",
    "##  模型部署\n",
    "\n",
    "训练作业完成后，会自动生成训练对应的文件。 除此之外，创建模型还需要[模型配置文件config.json](https://support.huaweicloud.com/usermanual-modelarts/modelarts_02_0061.html),和推理文件customize_service.py. 当文件都生成后，即可开始模型创建。选手可线下或使用Notebook编写上述文件，编写完成后，请将文件上传或移动到$src_local_path目录下\n",
    "* 首先，生成模型创建的源路径，并将config.json和customize_service.py从notebook容器中导入到OBS路径中。"
   ]
  },
  {
   "cell_type": "code",
   "execution_count": null,
   "metadata": {},
   "outputs": [],
   "source": [
    "model_location  =  base_bucket_path + '/output/model'\n",
    "session.create_directory(bucket_name, '/output/model')     #创建训练模型位置\n",
    "config_json = src_local_path + '/config.json'\n",
    "custom_service = src_local_path + '/customize_service.py'\n",
    "filelist = [config_json, custom_service]\n",
    "\n",
    "session.upload_data(model_location , filelist)\n",
    "print('The model file is uploaded to the OBS path: %smodel/' % model_location) "
   ]
  },
  {
   "cell_type": "markdown",
   "metadata": {},
   "source": [
    "* 其次，展示模型配置文件config.json  "
   ]
  },
  {
   "cell_type": "code",
   "execution_count": null,
   "metadata": {},
   "outputs": [],
   "source": [
    "!cat $config_json | python -m json.tool"
   ]
  },
  {
   "cell_type": "markdown",
   "metadata": {},
   "source": [
    "* 展示模型customize_service.py"
   ]
  },
  {
   "cell_type": "code",
   "execution_count": null,
   "metadata": {},
   "outputs": [],
   "source": [
    "!cat $custom_service"
   ]
  },
  {
   "cell_type": "markdown",
   "metadata": {},
   "source": [
    "* 最后，根据源路径中的模型文件创建模型，并实时输出模型状态"
   ]
  },
  {
   "cell_type": "code",
   "execution_count": null,
   "metadata": {},
   "outputs": [],
   "source": [
    "model = estimator.create_model( model_name      = \"licence_plate\",  # 模型名称\n",
    "                                model_version   = \"1.0.0\",          # 模型版本\n",
    "                                source_location =  base_bucket_path + '/output',   # OBS中的模型位置，选择模型文件夹的父目录，系统会自动定位到”model”目录\n",
    "                                model_type      = \"MXNet\",\n",
    "                                model_algorithm = \"image_classification\") "
   ]
  },
  {
   "cell_type": "markdown",
   "metadata": {},
   "source": [
    "---\n",
    "##  部署上线\n",
    "\n",
    "模型部署完成后，即可根据模型ID将模型部署上线.\n",
    "* 资源规格(specification)：当前版本可选modelarts.vm.cpu.2u/modelarts.vm.gpu.p4(需申请)/modelarts.vm.ai1.a310(需申请),[申请链接](https://console.huaweicloud.com/ticket/?region=southchina&locale=zh-cn#/ticketindex/createIndex)"
   ]
  },
  {
   "cell_type": "code",
   "execution_count": null,
   "metadata": {},
   "outputs": [],
   "source": [
    "configs = []\n",
    "config1 = ServiceConfig(model_id=model.get_model_id(), weight=\"100\", instance_count=1, specification=\"modelarts.vm.cpu.2u\", \n",
    "                        envs={\"input_data_name\":\"images\",\"input_data_shape\":\"0,1,28,28\",\"output_data_shape\":\"0,10\"}) #若无env，传{}即可\n",
    "configs.append(config1)\n",
    "predictor = model.deploy_predictor(service_name=\"licencePlate\", description =\"licencePlate Service\", configs=configs)"
   ]
  },
  {
   "cell_type": "markdown",
   "metadata": {},
   "source": [
    "---\n",
    "## 在线测试\n",
    "\n",
    "* 查看测试图片名称"
   ]
  },
  {
   "cell_type": "code",
   "execution_count": null,
   "metadata": {},
   "outputs": [],
   "source": [
    "data_file_path = data_path + '/train-data'\n",
    "!ls $data_file_path"
   ]
  },
  {
   "cell_type": "markdown",
   "metadata": {},
   "source": [
    "* 选择测试图片并展示"
   ]
  },
  {
   "cell_type": "code",
   "execution_count": null,
   "metadata": {},
   "outputs": [],
   "source": [
    "import imageio\n",
    "import matplotlib.pyplot as plt\n",
    "test_image = data_file_path + '/2b10978d80c7b92d.jpg'\n",
    "image = imageio.imread(test_image)\n",
    "plt.imshow(image)\n",
    "plt.show()"
   ]
  },
  {
   "cell_type": "markdown",
   "metadata": {},
   "source": [
    "* 输入文件本地路径和类型，开始预测"
   ]
  },
  {
   "cell_type": "code",
   "execution_count": null,
   "metadata": {},
   "outputs": [],
   "source": [
    "predict_result = predictor.predict(data=test_image,data_type = 'images')\n",
    "print(\"pretictor result is %s \" % json.dumps(predict_result,indent = 1))"
   ]
  },
  {
   "cell_type": "markdown",
   "metadata": {},
   "source": [
    "## 资源释放\n",
    "\n",
    "至此，车牌识别一站式开发结束，在MoelArts上生成的训练作业、模型和服务资源，可以选择删除"
   ]
  },
  {
   "cell_type": "code",
   "execution_count": null,
   "metadata": {},
   "outputs": [],
   "source": [
    "estimator.delete(job_id = job_id, model_id = model.model_id, service_id = model.service_id)"
   ]
  },
  {
   "cell_type": "markdown",
   "metadata": {},
   "source": [
    "* 可以选择删除存储本项目的OBS桶"
   ]
  },
  {
   "cell_type": "code",
   "execution_count": null,
   "metadata": {},
   "outputs": [],
   "source": [
    "session.delete_bucket(bucket_name)    "
   ]
  }
 ],
 "metadata": {
  "kernelspec": {
   "display_name": "Python 2",
   "language": "python",
   "name": "python2"
  },
  "language_info": {
   "codemirror_mode": {
    "name": "ipython",
    "version": 2
   },
   "file_extension": ".py",
   "mimetype": "text/x-python",
   "name": "python",
   "nbconvert_exporter": "python",
   "pygments_lexer": "ipython2",
   "version": "2.7.14"
  }
 },
 "nbformat": 4,
 "nbformat_minor": 2
}
